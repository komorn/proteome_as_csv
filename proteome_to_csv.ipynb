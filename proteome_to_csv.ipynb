{
 "cells": [
  {
   "cell_type": "code",
   "execution_count": 8,
   "metadata": {},
   "outputs": [],
   "source": [
    "from Bio import SeqIO\n",
    "import csv"
   ]
  },
  {
   "cell_type": "code",
   "execution_count": 9,
   "metadata": {},
   "outputs": [],
   "source": [
    "input_file = \"transcriptome.pep\"\n",
    "output_file = \"proteome.csv\""
   ]
  },
  {
   "cell_type": "code",
   "execution_count": 10,
   "metadata": {},
   "outputs": [],
   "source": [
    "with open(output_file, 'w', newline='') as csvfile:\n",
    "    fieldnames = ['id', 'orf_type', 'orientation', 'orf_score', 'sequence', 'length', 'blastp', 'blastp_e-value', 'pfam', 'pfam_e-value']\n",
    "\n",
    "    writer = csv.DictWriter(csvfile, fieldnames=fieldnames)\n",
    "\n",
    "    writer.writeheader()\n",
    "\n",
    "    for record in SeqIO.parse(input_file, 'fasta'):\n",
    "        header_parts = record.description.split(' ')\n",
    "        sequence_id = record.id  # g4311_i1.p1\n",
    "        sequence_id = sequence_id.split('_')\n",
    "        sequence_id = ['_'.join(id for id in sequence_id[-2:])]\n",
    "        orf_type = header_parts[4].split(':')[1]  \n",
    "        orientation = header_parts[5].split(',')[0] \n",
    "        orf_score = header_parts[5].split(',')[1].split('=')[1]\n",
    "        \n",
    "        sequence = str(record.seq)\n",
    "        length = len(sequence)\n",
    "\n",
    "        blastp = \"\"\n",
    "        blastp_evalue = \"\"\n",
    "        pfam = \"\"\n",
    "        pfam_evalue = \"\"\n",
    "\n",
    "        if 'sp|' in header_parts:\n",
    "            blastp = header_parts[header_parts.index('sp|') + 1]\n",
    "            blastp_evalue = header_parts[header_parts.index('sp|') + 3][:-1]  # Remove comma\n",
    "\n",
    "        if 'pfam' in header_parts:\n",
    "            pfam = header_parts[header_parts.index('pfam') + 1][:-1]  # Remove comma\n",
    "            pfam_evalue = header_parts[header_parts.index('pfam') + 3]\n",
    "\n",
    "        writer.writerow({\n",
    "            'id': sequence_id,\n",
    "            'orf_type': orf_type,\n",
    "            'orientation': orientation,\n",
    "            'orf_score': orf_score,\n",
    "            'sequence': sequence,\n",
    "            'length': length,\n",
    "            'blastp': blastp,\n",
    "            'blastp_e-value': blastp_evalue,\n",
    "            'pfam': pfam,\n",
    "            'pfam_e-value': pfam_evalue\n",
    "        })"
   ]
  }
 ],
 "metadata": {
  "kernelspec": {
   "display_name": "Python 3",
   "language": "python",
   "name": "python3"
  },
  "language_info": {
   "codemirror_mode": {
    "name": "ipython",
    "version": 3
   },
   "file_extension": ".py",
   "mimetype": "text/x-python",
   "name": "python",
   "nbconvert_exporter": "python",
   "pygments_lexer": "ipython3",
   "version": "3.10.9"
  }
 },
 "nbformat": 4,
 "nbformat_minor": 2
}
